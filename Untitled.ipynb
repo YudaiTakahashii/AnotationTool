{
 "cells": [
  {
   "cell_type": "code",
   "execution_count": 82,
   "metadata": {},
   "outputs": [],
   "source": [
    "import os\n",
    "import pandas as pd\n",
    "import numpy as np\n",
    "import matplotlib.pyplot as plt"
   ]
  },
  {
   "cell_type": "code",
   "execution_count": 83,
   "metadata": {},
   "outputs": [
    {
     "data": {
      "text/plain": [
       "'C:\\\\Users\\\\Ritter\\\\Documents\\\\MakeLabel_for_dl\\\\MakeLabel_for_DL'"
      ]
     },
     "execution_count": 83,
     "metadata": {},
     "output_type": "execute_result"
    }
   ],
   "source": [
    "os.getcwd()"
   ]
  },
  {
   "cell_type": "code",
   "execution_count": 84,
   "metadata": {},
   "outputs": [],
   "source": [
    "dst_path = os.path.join(os.getcwd(), 'dst')\n",
    "csv_pathes = []\n",
    "\n",
    "csv_pathes.append(os.path.join(dst_path, 'hoge.csv'))\n",
    "csv_pathes.append(os.path.join(dst_path, 'hogehoge.csv'))"
   ]
  },
  {
   "cell_type": "code",
   "execution_count": 85,
   "metadata": {},
   "outputs": [],
   "source": [
    "df_csvs = []\n",
    "for csv_path in csv_pathes:\n",
    "    df_csv = pd.read_csv(csv_path)\n",
    "    df_csv.columns=['Method', 'Time','IOU']\n",
    "    df_csvs.append(df_csv)"
   ]
  },
  {
   "cell_type": "code",
   "execution_count": 86,
   "metadata": {},
   "outputs": [
    {
     "name": "stdout",
     "output_type": "stream",
     "text": [
      "                    Method     Time       IOU\n",
      "0               Brush_Only  17.7220  0.347986\n",
      "1             Polygon_Only   7.7595  0.222947\n",
      "2          GrowRegion_Only  16.5615  0.128946\n",
      "3  GrowRegion_And_MeanShit  16.8915  0.294774\n",
      "4             GrubCut_Only  10.9390  0.004504\n"
     ]
    }
   ],
   "source": [
    "df_mean = df_csvs[0].copy(deep=False)\n",
    "\n",
    "df_mean['Time'] = 0\n",
    "df_mean['IOU'] = 0\n",
    "for df_csv in df_csvs:\n",
    "    df_mean['Time'] += df_csv['Time']\n",
    "    df_mean['IOU'] += df_csv['IOU']\n",
    "    \n",
    "df_mean['Time'] /= len(df_csvs)\n",
    "df_mean['IOU'] /=len(df_csvs)\n",
    "\n",
    "print(df_mean)"
   ]
  },
  {
   "cell_type": "code",
   "execution_count": 101,
   "metadata": {},
   "outputs": [
    {
     "data": {
      "image/png": "[encoded data removed]",
      "text/plain": [
       "<Figure size 432x288 with 1 Axes>"
      ]
     },
     "metadata": {
      "needs_background": "light"
     },
     "output_type": "display_data"
    }
   ],
   "source": [
    "colors = {'Brush_Only':'orange','Polygon_Only':'red','GrowRegion_Only':'pink',\n",
    "         'GrowRegion_And_MeanShit':'blue', 'GrubCut_Only':'green'}\n",
    "for f in df_mean['Method'].unique():\n",
    "    plt.scatter(df_mean.loc[df_mean.Method == f ,'Time'], df_mean.loc[df_mean.Method == f ,'IOU'], c=colors[f], label=f)\n",
    "plt.legend(bbox_to_anchor=(1.05, 1), loc='upper left', borderaxespad=0, fontsize=15)\n",
    "plt.xlabel('Time')\n",
    "plt.ylabel('IOU')\n",
    "plt.title('HOGE')\n",
    "plt.grid()\n",
    "# plt.show()\n",
    "plt.savefig('./dst/scatter.png', bbox_inches='tight')"
   ]
  },
  {
   "cell_type": "code",
   "execution_count": null,
   "metadata": {},
   "outputs": [],
   "source": []
  },
  {
   "cell_type": "code",
   "execution_count": null,
   "metadata": {},
   "outputs": [],
   "source": []
  },
  {
   "cell_type": "code",
   "execution_count": null,
   "metadata": {},
   "outputs": [],
   "source": []
  },
  {
   "cell_type": "code",
   "execution_count": null,
   "metadata": {},
   "outputs": [],
   "source": []
  },
  {
   "cell_type": "code",
   "execution_count": null,
   "metadata": {},
   "outputs": [],
   "source": []
  },
  {
   "cell_type": "code",
   "execution_count": null,
   "metadata": {},
   "outputs": [],
   "source": []
  },
  {
   "cell_type": "code",
   "execution_count": null,
   "metadata": {},
   "outputs": [],
   "source": []
  },
  {
   "cell_type": "code",
   "execution_count": null,
   "metadata": {},
   "outputs": [],
   "source": []
  },
  {
   "cell_type": "code",
   "execution_count": null,
   "metadata": {},
   "outputs": [],
   "source": []
  },
  {
   "cell_type": "code",
   "execution_count": null,
   "metadata": {},
   "outputs": [],
   "source": []
  },
  {
   "cell_type": "code",
   "execution_count": null,
   "metadata": {},
   "outputs": [],
   "source": []
  },
  {
   "cell_type": "code",
   "execution_count": null,
   "metadata": {},
   "outputs": [],
   "source": []
  },
  {
   "cell_type": "code",
   "execution_count": null,
   "metadata": {},
   "outputs": [],
   "source": []
  },
  {
   "cell_type": "code",
   "execution_count": null,
   "metadata": {},
   "outputs": [],
   "source": []
  }
 ],
 "metadata": {
  "kernelspec": {
   "display_name": "Python 3",
   "language": "python",
   "name": "python3"
  },
  "language_info": {
   "codemirror_mode": {
    "name": "ipython",
    "version": 3
   },
   "file_extension": ".py",
   "mimetype": "text/x-python",
   "name": "python",
   "nbconvert_exporter": "python",
   "pygments_lexer": "ipython3",
   "version": "3.7.3"
  }
 },
 "nbformat": 4,
 "nbformat_minor": 2
}
